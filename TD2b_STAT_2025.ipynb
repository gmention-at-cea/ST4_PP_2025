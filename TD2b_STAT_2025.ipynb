{
  "cells": [
    {
      "cell_type": "markdown",
      "id": "efdd002f-6f82-4ee7-b3f5-d40089bac0b3",
      "metadata": {
        "id": "efdd002f-6f82-4ee7-b3f5-d40089bac0b3"
      },
      "source": [
        "# <font color=\"darkred\" size=\"+4\">**Particle Physics**</font>\n",
        "Centrale-Supélec - ST4 - 2024\n",
        "\n",
        "<font color=\"darkred\" size=\"+3\">**Tutorial to perform Likelihood fits with iMinuit**</font>\n",
        "\n",
        "\n",
        "\n",
        "Tutorial from Hans Dembinski, current iMinuit maintainer.\n",
        "\n",
        "This tutorial is very good to illustrate a simple yet powerful framework to fit parameters from likelihoods with iMinuit.\n",
        "\n",
        "![image|100px](https://scikit-hep.org/iminuit/_images/iminuit_logo.svg)\n",
        "\n",
        "iMinuit documentation is available there:\n",
        "\n",
        "https://scikit-hep.org/iminuit/index.html\n",
        "\n",
        "\n",
        "We first process step by step and then collect information on what is required with iMinuit to indeed fit correctly the dataset with out model."
      ]
    },
    {
      "cell_type": "markdown",
      "source": [
        "Installing first the packages not available in Colab."
      ],
      "metadata": {
        "id": "bq4DoUuqkUS8"
      },
      "id": "bq4DoUuqkUS8"
    },
    {
      "cell_type": "code",
      "source": [
        "!pip install iminuit\n",
        "!pip install resample"
      ],
      "metadata": {
        "id": "J9HLuaWLN1rV"
      },
      "id": "J9HLuaWLN1rV",
      "execution_count": null,
      "outputs": []
    },
    {
      "cell_type": "markdown",
      "source": [
        "Then importing the minimum setup to process this notebook"
      ],
      "metadata": {
        "id": "_HhUR69PkXET"
      },
      "id": "_HhUR69PkXET"
    },
    {
      "cell_type": "code",
      "execution_count": null,
      "id": "f984f4b4-2a6f-40ee-820b-0ffe9a869ac4",
      "metadata": {
        "id": "f984f4b4-2a6f-40ee-820b-0ffe9a869ac4"
      },
      "outputs": [],
      "source": [
        "from iminuit import Minuit\n",
        "from iminuit.cost import ExtendedBinnedNLL\n",
        "from iminuit.cost import ExtendedUnbinnedNLL\n",
        "from resample import bootstrap\n",
        "\n",
        "from scipy import stats\n",
        "import numpy as np\n",
        "from matplotlib import pyplot as plt"
      ]
    },
    {
      "cell_type": "markdown",
      "source": [
        "We generate some random data, with a global exponential shape background, and a gaussian signal"
      ],
      "metadata": {
        "id": "ZPAkbc5gkdHZ"
      },
      "id": "ZPAkbc5gkdHZ"
    },
    {
      "cell_type": "code",
      "execution_count": null,
      "id": "2224e713-eef6-4240-a3dc-7d8884b50b47",
      "metadata": {
        "id": "2224e713-eef6-4240-a3dc-7d8884b50b47"
      },
      "outputs": [],
      "source": [
        "rng = np.random.default_rng(1)  # setting the seed to get reproducible output\n",
        "\n",
        "x = np.append(stats.norm(0.5, 0.05).rvs(size=1_000, random_state=rng),\n",
        "              stats.expon(0.0, 0.5).rvs(size=10_000, random_state=rng))"
      ]
    },
    {
      "cell_type": "markdown",
      "source": [
        "Plotting now this dataset:"
      ],
      "metadata": {
        "id": "E-vnY0HPklJ9"
      },
      "id": "E-vnY0HPklJ9"
    },
    {
      "cell_type": "code",
      "execution_count": null,
      "id": "0e7a27cf-5409-422f-ad1e-7bc5462c4abf",
      "metadata": {
        "id": "0e7a27cf-5409-422f-ad1e-7bc5462c4abf"
      },
      "outputs": [],
      "source": [
        "bins = 50\n",
        "n, xe = np.histogram(x, bins=bins, range=(0, 1))\n",
        "xc = 0.5 * (xe[1:] + xe[:-1])  # compute bin centers\n",
        "dx = xe[1:] - xe[:-1] # bin width\n",
        "# plt.hist(x, bins=bins, range=(0, 1))\n",
        "plt.errorbar(xc, n, yerr=np.sqrt(n), fmt='ko');"
      ]
    },
    {
      "cell_type": "markdown",
      "source": [],
      "metadata": {
        "id": "yTxaiJgamUc3"
      },
      "id": "yTxaiJgamUc3"
    },
    {
      "cell_type": "markdown",
      "source": [
        "We now define the model for the bin content, to be used with binned likelihood fits."
      ],
      "metadata": {
        "id": "_B1PjqAakoHj"
      },
      "id": "_B1PjqAakoHj"
    },
    {
      "cell_type": "code",
      "execution_count": null,
      "id": "59ca3858-dde1-4357-964e-ca654dce89df",
      "metadata": {
        "id": "59ca3858-dde1-4357-964e-ca654dce89df"
      },
      "outputs": [],
      "source": [
        "# extended binned maximum likelihood fit\n",
        "# ExtendedBinnedNLL wants a model that returns the expected counts per bin\n",
        "def signal(xe, ns, mu, sigma):\n",
        "    return ns * stats.norm(mu, sigma).cdf(xe)\n",
        "\n",
        "def background(xe, nb, lambd):\n",
        "    return nb * stats.expon(0.0, lambd).cdf(xe)\n",
        "\n",
        "def total(xe, ns, mu, sigma, nb, lambd):\n",
        "    return signal(xe, ns, mu, sigma) + background(xe, nb, lambd)\n"
      ]
    },
    {
      "cell_type": "code",
      "execution_count": null,
      "id": "8a8a2767-6606-4d55-9d1b-13dc198f4faa",
      "metadata": {
        "id": "8a8a2767-6606-4d55-9d1b-13dc198f4faa"
      },
      "outputs": [],
      "source": [
        "cost = ExtendedBinnedNLL(n, xe, total)"
      ]
    },
    {
      "cell_type": "code",
      "execution_count": null,
      "id": "5e11e805-2255-46b1-ae43-864703a541fe",
      "metadata": {
        "id": "5e11e805-2255-46b1-ae43-864703a541fe"
      },
      "outputs": [],
      "source": [
        "m = Minuit(cost, ns=0, mu=1, sigma=1, nb=0, lambd=1)\n",
        "m.migrad()\n",
        "# >>> Give an invalid minimum..."
      ]
    },
    {
      "cell_type": "code",
      "execution_count": null,
      "id": "ced1d34a-7f3a-43ea-905e-68d19fccb269",
      "metadata": {
        "id": "ced1d34a-7f3a-43ea-905e-68d19fccb269"
      },
      "outputs": [],
      "source": [
        "# Ask for more information\n",
        "cost.verbose = 1\n",
        "m = Minuit(cost, ns=0, mu=1, sigma=1, nb=0, lambd=1)\n",
        "m.migrad()"
      ]
    },
    {
      "cell_type": "markdown",
      "source": [
        "We observe NaN's (Not-a-number) ouputs in the previous call. This means that the computations gave rise to undefinite numbers. This is typically the case when numbers are negative and only positive numbers are allowed, etc."
      ],
      "metadata": {
        "id": "sWw2FHQufLQW"
      },
      "id": "sWw2FHQufLQW"
    },
    {
      "cell_type": "code",
      "execution_count": null,
      "id": "77a5a293-e491-4f16-a29a-0da387176f4b",
      "metadata": {
        "id": "77a5a293-e491-4f16-a29a-0da387176f4b"
      },
      "outputs": [],
      "source": [
        "# Setting bounds: σ>0 and λ>0\n",
        "# sigma and lambd must be positive...\n",
        "cost.verbose = 1\n",
        "m = Minuit(cost, ns=0, mu=0, sigma=1, nb=0, lambd=10)\n",
        "m.limits['lambd'] = (0, None)\n",
        "m.limits['sigma'] = (0, None)\n",
        "m.migrad()"
      ]
    },
    {
      "cell_type": "code",
      "execution_count": null,
      "id": "7f6051d0-cab3-46dd-baef-87a4e0a82c8d",
      "metadata": {
        "id": "7f6051d0-cab3-46dd-baef-87a4e0a82c8d"
      },
      "outputs": [],
      "source": [
        "# >>> ran over its call limit.\n",
        "# %% Increase nb. of possible calls\n",
        "m = Minuit(cost, ns=0, mu=0, sigma=1, nb=0, lambd=10)\n",
        "m.limits['lambd'] = (0, None)\n",
        "m.limits['sigma'] = (0, None)\n",
        "m.migrad(ncall=10_000)"
      ]
    },
    {
      "cell_type": "code",
      "execution_count": null,
      "id": "38c02f4b-5c12-4669-ad6d-80f1531db8b7",
      "metadata": {
        "id": "38c02f4b-5c12-4669-ad6d-80f1531db8b7"
      },
      "outputs": [],
      "source": [
        "# %% Plot that solution\n",
        "def plot_model(xe, cdf, **kwargs):  # helper function\n",
        "    plt.plot(xe, np.append(np.diff(cdf), np.nan),\n",
        "             drawstyle=\"steps-post\", **kwargs)\n",
        "\n",
        "\n",
        "plt.hist(x, bins=50, range=(0, 1))\n",
        "plt.errorbar(xe[:-1]+np.mean(np.diff(xe))/2, n, yerr=np.sqrt(n),\n",
        "             fmt='ko')\n",
        "plot_model(xe, total(xe, *m.values[:]), linewidth=2)"
      ]
    },
    {
      "cell_type": "code",
      "execution_count": null,
      "id": "d05424d8-d504-4d74-a633-e3cf4d1b2846",
      "metadata": {
        "id": "d05424d8-d504-4d74-a633-e3cf4d1b2846"
      },
      "outputs": [],
      "source": [
        "# %%\n",
        "# signal window is roughly 0.3 to 0.7, let's mask that out\n",
        "\n",
        "cost.mask = (xc < 0.3) | (0.7 < xc)\n",
        "\n",
        "cost.verbose = 0  # turn verbosity off again, this fit should not cause trouble\n",
        "\n",
        "m = Minuit(cost, ns=0, mu=1, sigma=1, nb=0, lambd=1)\n",
        "m.limits['lambd'] = (0, None)\n",
        "m.limits['sigma'] = (0, None)\n",
        "\n",
        "# fix signal parameters for next fit and set signal amplitude to zero\n",
        "m.fixed[:3] = True\n",
        "m.values[\"ns\"] = 0\n",
        "\n",
        "m.migrad()"
      ]
    },
    {
      "cell_type": "code",
      "execution_count": null,
      "id": "2eb03a76-4b47-4d75-a340-c92dadf83341",
      "metadata": {
        "id": "2eb03a76-4b47-4d75-a340-c92dadf83341"
      },
      "outputs": [],
      "source": [
        "# %% unmask signal region now\n",
        "cost.mask = None\n",
        "m.fixed[:] = False\n",
        "m.fixed[\"nb\"] = True\n",
        "m.fixed[\"lambd\"] = True\n",
        "m.values[\"ns\"] = 1\n",
        "m.migrad()"
      ]
    },
    {
      "cell_type": "code",
      "execution_count": null,
      "id": "aeef4555-9e46-436c-85d6-f9dbeba32d4d",
      "metadata": {
        "id": "aeef4555-9e46-436c-85d6-f9dbeba32d4d"
      },
      "outputs": [],
      "source": [
        "# %%\n",
        "m.fixed[:] = False\n",
        "m.migrad()"
      ]
    },
    {
      "cell_type": "markdown",
      "source": [
        "Instead of step by step as above when soliving a puzzle for minimization (which is extremly convenient by the way!) it is possible to setup from start with the following options:"
      ],
      "metadata": {
        "id": "q0BKd9bJgsp9"
      },
      "id": "q0BKd9bJgsp9"
    },
    {
      "cell_type": "code",
      "execution_count": null,
      "id": "20007ba5-cb12-4605-b16c-6c2e6a593950",
      "metadata": {
        "id": "20007ba5-cb12-4605-b16c-6c2e6a593950"
      },
      "outputs": [],
      "source": [
        "# %% Everything right from start with following instructions\n",
        "m = Minuit(cost, ns=0, mu=0, sigma=1, nb=0, lambd=10) # Fresh new definition of Minuit state\n",
        "m.limits['ns'] = (0, None)\n",
        "m.limits['nb'] = (0, None)\n",
        "m.limits['mu'] = (0.4, 0.6)\n",
        "m.limits['lambd'] = (0, 2)\n",
        "m.limits['sigma'] = (0, 0.2)\n",
        "m.migrad()"
      ]
    },
    {
      "cell_type": "markdown",
      "source": [
        "If still experiencing \"INVALID MINIMUM\", it might be because the number of iteration steps ran over the limit. We can increase it:"
      ],
      "metadata": {
        "id": "6XV7C7sqhaUW"
      },
      "id": "6XV7C7sqhaUW"
    },
    {
      "cell_type": "code",
      "source": [
        "m = Minuit(cost, ns=0, mu=0, sigma=1, nb=0, lambd=10) # Fresh new definition of Minuit state\n",
        "m.limits['ns'] = (0, None)\n",
        "m.limits['nb'] = (0, None)\n",
        "m.limits['mu'] = (0.4, 0.6)\n",
        "m.limits['lambd'] = (0, 2)\n",
        "m.limits['sigma'] = (0, 0.2)\n",
        "m.migrad(ncall=10_000)"
      ],
      "metadata": {
        "id": "sEt3JbLPhkEz"
      },
      "id": "sEt3JbLPhkEz",
      "execution_count": null,
      "outputs": []
    },
    {
      "cell_type": "markdown",
      "source": [
        "Possibility to resample the initial dataset to process bootstrap samples and estimate variations of the parameters, cheking their mean and standard deviation this way."
      ],
      "metadata": {
        "id": "PfE7ldSWhsV_"
      },
      "id": "PfE7ldSWhsV_"
    },
    {
      "cell_type": "code",
      "execution_count": null,
      "id": "5eda72f5-79b1-4587-b650-a9cd497d2e73",
      "metadata": {
        "id": "5eda72f5-79b1-4587-b650-a9cd497d2e73"
      },
      "outputs": [],
      "source": [
        "# Bonus: resampling and bootstrap\n",
        "cost.n = np.histogram(x, bins=bins, range=(0, 1))[0]\n",
        "m = Minuit(cost, ns=0, mu=0, sigma=1, nb=0, lambd=10)\n",
        "m.limits['ns'] = (0, None)\n",
        "m.limits['nb'] = (0, None)\n",
        "m.limits['mu'] = (0.4, 0.6)\n",
        "m.limits['lambd'] = (0, 2)\n",
        "m.limits['sigma'] = (0, 0.2)\n",
        "m.migrad(ncall=10_000)\n",
        "print(f\"nfcn for original fit = {m.fmin.nfcn}\")\n",
        "m"
      ]
    },
    {
      "cell_type": "code",
      "execution_count": null,
      "id": "016b1b6e-3e17-46b6-bafc-26fd03b733a3",
      "metadata": {
        "id": "016b1b6e-3e17-46b6-bafc-26fd03b733a3"
      },
      "outputs": [],
      "source": [
        "errors = m.errors[:]\n",
        "nfcn = m.fmin.nfcn"
      ]
    },
    {
      "cell_type": "code",
      "execution_count": null,
      "id": "60488df9-58b6-4af4-a93d-29c963da399e",
      "metadata": {
        "id": "60488df9-58b6-4af4-a93d-29c963da399e"
      },
      "outputs": [],
      "source": [
        "rng = np.random.default_rng(1)\n",
        "b_value = []\n",
        "b_nfcn = []\n",
        "for i, b_sample in enumerate(bootstrap.resample(x, size=50,\n",
        "                                                random_state=rng)):\n",
        "    cost.n = np.histogram(b_sample, bins=bins, range=(0, 1))[0]\n",
        "    m.migrad()\n",
        "    print(f\"nfcn for fit of b_sample[{i}] = {m.fmin.nfcn}\")\n",
        "    assert m.valid\n",
        "    b_value.append(m.values[:])\n",
        "    b_nfcn.append(m.fmin.nfcn)"
      ]
    },
    {
      "cell_type": "markdown",
      "source": [
        "Check number of function calls: minuit remembers state of previous fit. So it converges faster to solution on successive calls than with fresh restart..."
      ],
      "metadata": {
        "id": "pDZ1sqwmiMkE"
      },
      "id": "pDZ1sqwmiMkE"
    },
    {
      "cell_type": "code",
      "execution_count": null,
      "id": "746dce50-c166-4491-aff0-452fdd0af72f",
      "metadata": {
        "id": "746dce50-c166-4491-aff0-452fdd0af72f"
      },
      "outputs": [],
      "source": [
        "plt.axvline(nfcn, color=\"C0\", label=\"original\")\n",
        "plt.hist(np.diff(b_nfcn), color=\"C1\", label=\"bootstrapped\")\n",
        "plt.xlabel(\"number of likelihood evaluations\")\n",
        "plt.legend();"
      ]
    },
    {
      "cell_type": "markdown",
      "source": [
        "We can now compare fit parameters estimated uncertainties with bootstrap standard deviations."
      ],
      "metadata": {
        "id": "XA1rAGhjiVAT"
      },
      "id": "XA1rAGhjiVAT"
    },
    {
      "cell_type": "code",
      "execution_count": null,
      "id": "842c5ef2-000e-42fd-a82b-5083df435ee0",
      "metadata": {
        "id": "842c5ef2-000e-42fd-a82b-5083df435ee0"
      },
      "outputs": [],
      "source": [
        "b_cov = np.cov(np.transpose(b_value)) # be careful with b_value dimensions and np.cov call\n",
        "b_errors = np.diag(b_cov) ** 0.5  # getting standard deviations.\n",
        "\n",
        "height = 0.35\n",
        "i = np.arange(5)\n",
        "plt.barh(i - height/2, errors, height, label=\"Minuit\")\n",
        "plt.barh(i + height/2, b_errors, height, label=\"bootstrap\")\n",
        "plt.semilogx()\n",
        "plt.yticks(i, m.parameters)\n",
        "plt.xlabel(\"uncertainty estimate\")\n",
        "plt.legend();"
      ]
    },
    {
      "cell_type": "code",
      "execution_count": null,
      "id": "10eec6d6-f753-474d-89b9-fbe9b7f3d932",
      "metadata": {
        "id": "10eec6d6-f753-474d-89b9-fbe9b7f3d932"
      },
      "outputs": [],
      "source": [
        "# %% Extended Unbinned NLL\n",
        "from iminuit.cost import ExtendedUnbinnedNLL\n",
        "# x = x[x<2]\n",
        "\n",
        "def fs(x, mu, sigma):\n",
        "    return stats.norm(mu, sigma).pdf(x)\n",
        "\n",
        "def fb(x, lambd):\n",
        "    return stats.expon(0.0, lambd).pdf(x)\n",
        "\n",
        "def f(x, ns, mu, sigma, nb, lambd):\n",
        "    return ns+nb, ns*fs(x, mu, sigma) + nb*fb(x, lambd)"
      ]
    },
    {
      "cell_type": "code",
      "execution_count": null,
      "id": "0b314ca1-691e-4b8a-9acb-d6702774e575",
      "metadata": {
        "id": "0b314ca1-691e-4b8a-9acb-d6702774e575"
      },
      "outputs": [],
      "source": [
        "cost = ExtendedUnbinnedNLL(x, f)\n",
        "\n",
        "m = Minuit(cost, ns=1, mu=1, sigma=1, nb=1, lambd=1)\n",
        "m.limits['ns'] = (0, None)\n",
        "m.limits['nb'] = (0, None)\n",
        "m.limits['mu'] = (0.4, 0.6)\n",
        "m.limits['lambd'] = (0, 2)\n",
        "m.limits['sigma'] = (0, 0.2)\n",
        "\n",
        "m.migrad(ncall=10_000)"
      ]
    },
    {
      "cell_type": "markdown",
      "source": [
        "Calling MINOS algorithm for better estimate of parameter uncertainties."
      ],
      "metadata": {
        "id": "sTpZ6RUCjWUS"
      },
      "id": "sTpZ6RUCjWUS"
    },
    {
      "cell_type": "code",
      "execution_count": null,
      "id": "110b3c47-9589-498d-baed-24162ab6ec53",
      "metadata": {
        "id": "110b3c47-9589-498d-baed-24162ab6ec53"
      },
      "outputs": [],
      "source": [
        "m.minos()"
      ]
    },
    {
      "cell_type": "code",
      "execution_count": null,
      "id": "3219893f-ed70-4b1c-bce8-13cc3638d0eb",
      "metadata": {
        "id": "3219893f-ed70-4b1c-bce8-13cc3638d0eb"
      },
      "outputs": [],
      "source": []
    }
  ],
  "metadata": {
    "kernelspec": {
      "display_name": "Python 3 (ipykernel)",
      "language": "python",
      "name": "python3"
    },
    "language_info": {
      "codemirror_mode": {
        "name": "ipython",
        "version": 3
      },
      "file_extension": ".py",
      "mimetype": "text/x-python",
      "name": "python",
      "nbconvert_exporter": "python",
      "pygments_lexer": "ipython3",
      "version": "3.10.13"
    },
    "colab": {
      "provenance": []
    }
  },
  "nbformat": 4,
  "nbformat_minor": 5
}